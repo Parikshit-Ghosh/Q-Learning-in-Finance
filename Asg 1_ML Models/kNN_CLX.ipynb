{
 "cells": [
  {
   "cell_type": "code",
   "execution_count": 29,
   "id": "40954b81",
   "metadata": {},
   "outputs": [],
   "source": [
    "import csv\n",
    "import random\n",
    "import math\n",
    "import numpy\n",
    "import operator\n",
    "import pandas\n",
    "\n",
    "import pandas_datareader.data as web\n",
    "import datetime\n",
    "\n",
    "\n",
    "import matplotlib.pyplot as plt   \n",
    "import json"
   ]
  },
  {
   "cell_type": "code",
   "execution_count": 30,
   "id": "71d0759c",
   "metadata": {},
   "outputs": [],
   "source": [
    "def loadDataset(filename, split, trainingSet=[], testSet=[], content_header=[]):\n",
    "    with open(filename, 'rb') as csvfile:\n",
    "        lines = csv.reader(csvfile)\n",
    "        dataset = list(lines)\n",
    "        for x in range(len(dataset) - 1):\n",
    "            for y in range(1, len(content_header) - 1):\n",
    "                dataset[x][y] = float(dataset[x][y])\n",
    "            if random.random() < split:\n",
    "                trainingSet.append(dataset[x])\n",
    "            else:\n",
    "                testSet.append(dataset[x])"
   ]
  },
  {
   "cell_type": "code",
   "execution_count": 31,
   "id": "f0b507e4",
   "metadata": {},
   "outputs": [],
   "source": [
    "def euclideanDistance(instance1, instance2, length):\n",
    "    distance = 0\n",
    "    for x in range(1, length):\n",
    "        distance += pow((instance1[x] - instance2[x]), 2)\n",
    "    return math.sqrt(distance)"
   ]
  },
  {
   "cell_type": "code",
   "execution_count": 32,
   "id": "a7404e6a",
   "metadata": {},
   "outputs": [],
   "source": [
    "def getNeighbors(trainingSet, testInstance, k):\n",
    "    distance = []\n",
    "    length = len(testInstance) - 1\n",
    "\n",
    "    for x in range((len(trainingSet))):\n",
    "        dist = euclideanDistance(testInstance, trainingSet[x], length)\n",
    "        distance.append((trainingSet[x], dist))\n",
    "    distance.sort(key=operator.itemgetter(1))\n",
    "    neighbors = []\n",
    "    for x in range(k):\n",
    "        neighbors.append(distance[x][0])\n",
    "    return neighbors"
   ]
  },
  {
   "cell_type": "code",
   "execution_count": 33,
   "id": "916fbb5e",
   "metadata": {},
   "outputs": [],
   "source": [
    "def getResponse(neighbors):\n",
    "    classVotes = {}\n",
    "    for x in range(len(neighbors)):\n",
    "        response = neighbors[x][-1]\n",
    "        if response in classVotes:\n",
    "            classVotes[response] += 1\n",
    "        else:\n",
    "            classVotes[response] = 1\n",
    "    sortedVotes = sorted(classVotes.iteritems(), key=operator.itemgetter(1), reverse=True)\n",
    "    return sortedVotes[0][0]"
   ]
  },
  {
   "cell_type": "code",
   "execution_count": 34,
   "id": "2b304fd3",
   "metadata": {},
   "outputs": [],
   "source": [
    "def getAccuracy(testSet, predictions):\n",
    "    correct = 0\n",
    "    for x in range(len(testSet)):\n",
    "        if testSet[x][-1] == predictions[x]:\n",
    "            correct += 1\n",
    "    return (correct/float(len(testSet))) * 100.0\n",
    "\n",
    "\n",
    "def getAccuracy1(testSet, predictions):\n",
    "    correct = 0\n",
    "    for x in range(len(testSet)):\n",
    "        if RMSD(testSet[x][-1], predictions[x]) < 1:\n",
    "            correct += 1\n",
    "    return (correct/float(len(testSet))) * 100.0"
   ]
  },
  {
   "cell_type": "code",
   "execution_count": 35,
   "id": "18ad1ebe",
   "metadata": {},
   "outputs": [],
   "source": [
    "def RMSD(X, Y):\n",
    "    return math.sqrt(pow(Y - X, 2))\n"
   ]
  },
  {
   "cell_type": "code",
   "execution_count": 36,
   "id": "b8df373f",
   "metadata": {},
   "outputs": [],
   "source": [
    "def change(today, yest):\n",
    "    if today > yest:\n",
    "        return 'up'\n",
    "    return 'down'\n"
   ]
  },
  {
   "cell_type": "code",
   "execution_count": 37,
   "id": "a9becb8c",
   "metadata": {},
   "outputs": [],
   "source": [
    "def getData(filename, stockname, startdate, enddate):\n",
    "    stock = web.DataReader(stockname, 'yahoo', startdate, enddate)\n",
    "    print(\"done making network call\")\n",
    "    ass = [stock.index]\n",
    "    stck_json = stock.to_json(orient=\"index\", date_format='iso')\n",
    "    stck_dates = json.loads(stck_json)\n",
    "\n",
    "    plt.plot(stock[\"Adj Close\"])\n",
    "    plt.title(\"Stock movement of \" + stockname)\n",
    "\n",
    "    first_time = True\n",
    "    with open(filename, 'wb') as pp:\n",
    "        stockwriter = csv.writer(pp)\n",
    "        stp = sorted(stck_dates.keys())\n",
    "        for i in stp:\n",
    "            new_format_date = i[:10]\n",
    "            if first_time:\n",
    "                first_time = False\n",
    "                prev_closing = stck_dates[i][\"Adj Close\"]\n",
    "                continue\n",
    "            stockwriter.writerow([new_format_date] + [stck_dates[i][\"Open\"]] +  [stck_dates[i][\"High\"]] + [stck_dates[i][\"Low\"]]  +  [stck_dates[i][\"Adj Close\"]] + [change(stck_dates[i][\"Adj Close\"], prev_closing)])\n",
    "            prev_closing = stck_dates[i][\"Adj Close\"]"
   ]
  },
  {
   "cell_type": "code",
   "execution_count": 38,
   "id": "9f23828c",
   "metadata": {},
   "outputs": [],
   "source": [
    "def abc(filename, stockname, startdate, enddate):\n",
    "    apple = web.DataReader(stockname, 'yahoo', startdate, enddate)\n",
    "    with open(filename, 'wb') as csvfile:\n",
    "        stockwriter = csv.writer(csvfile, quotechar=',')\n",
    "        for ind in range(1, len(apple.Open)):\n",
    "            stockwriter.writerow([\"open: \"] + [apple.Open[ind - 1]] + [\"    high: \"] + [apple.High[ind - 1]] + [\"   low: \"] + [apple.Low[ind - 1]] + [\"  yester close: \"] + [apple['Adj Close'][ind - 1]] + [\" volume: \"] + [apple.Volume[ind - 1]] + [change(apple['Adj Close'][ind], apple['Adj Close'][ind - 1])])"
   ]
  },
  {
   "cell_type": "code",
   "execution_count": 39,
   "id": "a2c05f8f",
   "metadata": {},
   "outputs": [],
   "source": [
    "def predictFor(k, filename, stockname, startdate, enddate, writeAgain, split):\n",
    "    iv = [\"date\", \"open\", \"high\", \"low\", \"yesterday closing adj\", \"state change\"]\n",
    "    trainingSet = []\n",
    "    testSet = []\n",
    "    totalCount = 0\n",
    "\n",
    "    if writeAgain:\n",
    "        print(\"making a network request\")\n",
    "        getData(filename, stockname, startdate, enddate)\n",
    "\n",
    "    loadDataset(filename, split, trainingSet, testSet, iv)\n",
    "\n",
    "    print(\"Predicting for \", stockname)\n",
    "    print(\"Train: \" + repr(len(trainingSet)))\n",
    "    print(\"Test: \" + repr(len(testSet)))\n",
    "    totalCount += len(trainingSet) + len(testSet)\n",
    "    print(\"Total: \" + repr(totalCount))\n",
    "\n",
    "    predict_and_get_accuracy(testSet, trainingSet, k, stockname)"
   ]
  },
  {
   "cell_type": "code",
   "execution_count": 40,
   "id": "2fc370b8",
   "metadata": {},
   "outputs": [],
   "source": [
    "def predict_and_get_accuracy(testSet, trainingSet, k, stockname):\n",
    "    predictions = []\n",
    "    for x in range(len(testSet)):\n",
    "        neighbors = getNeighbors(trainingSet, testSet[x], k)\n",
    "        result = getResponse(neighbors)\n",
    "        predictions.append(result)\n",
    "\n",
    "    accuracy = getAccuracy(testSet, predictions)\n",
    "    print('Accuracy: ' + repr(accuracy) + '%')\n",
    "\n",
    "    plt.figure(2)\n",
    "    plt.title(\"Prediction vs Actual Trend of \" + stockname)\n",
    "    plt.legend(loc=\"best\")\n",
    "    row = []\n",
    "    col = []\n",
    "    for dates in range(len(testSet)):\n",
    "        new_date = datetime.datetime.strptime(testSet[dates][0], \"%Y-%M-%d\")\n",
    "        row.append(new_date)\n",
    "        if predictions[dates]== \"down\":\n",
    "            col.append(-1)\n",
    "        else:\n",
    "            col.append(1)\n",
    "    predicted_plt, = plt.plot(row, col, 'r', label=\"Predicted Trend\")\n",
    "\n",
    "    row = []\n",
    "    col = []\n",
    "    for dates in range(len(testSet)):\n",
    "        new_date = datetime.datetime.strptime(testSet[dates][0], \"%Y-%M-%d\")\n",
    "        row.append(new_date)\n",
    "        if testSet[dates][-1]== \"down\":\n",
    "            col.append(-1)\n",
    "        else:\n",
    "            col.append(1)\n",
    "    actual_plt, = plt.plot(row, col, 'b', label=\"Actual Trend\")\n",
    "\n",
    "    plt.legend(handles=[predicted_plt, actual_plt])\n",
    "\n",
    "\n",
    "    plt.show()"
   ]
  },
  {
   "cell_type": "code",
   "execution_count": 41,
   "id": "70f4d226",
   "metadata": {},
   "outputs": [
    {
     "name": "stdout",
     "output_type": "stream",
     "text": [
      "making a network request\n",
      "done making network call\n"
     ]
    },
    {
     "ename": "TypeError",
     "evalue": "a bytes-like object is required, not 'str'",
     "output_type": "error",
     "traceback": [
      "\u001b[1;31m---------------------------------------------------------------------------\u001b[0m",
      "\u001b[1;31mTypeError\u001b[0m                                 Traceback (most recent call last)",
      "\u001b[1;32m<ipython-input-41-ca03f4b0e639>\u001b[0m in \u001b[0;36m<module>\u001b[1;34m\u001b[0m\n\u001b[0;32m      6\u001b[0m     \u001b[0mpredictFor\u001b[0m\u001b[1;33m(\u001b[0m\u001b[1;36m5\u001b[0m\u001b[1;33m,\u001b[0m \u001b[1;34m'CLX.csv'\u001b[0m\u001b[1;33m,\u001b[0m \u001b[1;34m'CLX'\u001b[0m\u001b[1;33m,\u001b[0m \u001b[0mstartdate\u001b[0m\u001b[1;33m,\u001b[0m \u001b[0menddate\u001b[0m\u001b[1;33m,\u001b[0m \u001b[1;36m1\u001b[0m\u001b[1;33m,\u001b[0m \u001b[0msplit\u001b[0m\u001b[1;33m)\u001b[0m\u001b[1;33m\u001b[0m\u001b[1;33m\u001b[0m\u001b[0m\n\u001b[0;32m      7\u001b[0m \u001b[1;33m\u001b[0m\u001b[0m\n\u001b[1;32m----> 8\u001b[1;33m \u001b[0mmain\u001b[0m\u001b[1;33m(\u001b[0m\u001b[1;33m)\u001b[0m\u001b[1;33m\u001b[0m\u001b[1;33m\u001b[0m\u001b[0m\n\u001b[0m",
      "\u001b[1;32m<ipython-input-41-ca03f4b0e639>\u001b[0m in \u001b[0;36mmain\u001b[1;34m()\u001b[0m\n\u001b[0;32m      4\u001b[0m     \u001b[0menddate\u001b[0m \u001b[1;33m=\u001b[0m \u001b[0mdatetime\u001b[0m\u001b[1;33m.\u001b[0m\u001b[0mdate\u001b[0m\u001b[1;33m.\u001b[0m\u001b[0mtoday\u001b[0m\u001b[1;33m(\u001b[0m\u001b[1;33m)\u001b[0m\u001b[1;33m\u001b[0m\u001b[1;33m\u001b[0m\u001b[0m\n\u001b[0;32m      5\u001b[0m \u001b[1;33m\u001b[0m\u001b[0m\n\u001b[1;32m----> 6\u001b[1;33m     \u001b[0mpredictFor\u001b[0m\u001b[1;33m(\u001b[0m\u001b[1;36m5\u001b[0m\u001b[1;33m,\u001b[0m \u001b[1;34m'CLX.csv'\u001b[0m\u001b[1;33m,\u001b[0m \u001b[1;34m'CLX'\u001b[0m\u001b[1;33m,\u001b[0m \u001b[0mstartdate\u001b[0m\u001b[1;33m,\u001b[0m \u001b[0menddate\u001b[0m\u001b[1;33m,\u001b[0m \u001b[1;36m1\u001b[0m\u001b[1;33m,\u001b[0m \u001b[0msplit\u001b[0m\u001b[1;33m)\u001b[0m\u001b[1;33m\u001b[0m\u001b[1;33m\u001b[0m\u001b[0m\n\u001b[0m\u001b[0;32m      7\u001b[0m \u001b[1;33m\u001b[0m\u001b[0m\n\u001b[0;32m      8\u001b[0m \u001b[0mmain\u001b[0m\u001b[1;33m(\u001b[0m\u001b[1;33m)\u001b[0m\u001b[1;33m\u001b[0m\u001b[1;33m\u001b[0m\u001b[0m\n",
      "\u001b[1;32m<ipython-input-39-972352e8a601>\u001b[0m in \u001b[0;36mpredictFor\u001b[1;34m(k, filename, stockname, startdate, enddate, writeAgain, split)\u001b[0m\n\u001b[0;32m      7\u001b[0m     \u001b[1;32mif\u001b[0m \u001b[0mwriteAgain\u001b[0m\u001b[1;33m:\u001b[0m\u001b[1;33m\u001b[0m\u001b[1;33m\u001b[0m\u001b[0m\n\u001b[0;32m      8\u001b[0m         \u001b[0mprint\u001b[0m\u001b[1;33m(\u001b[0m\u001b[1;34m\"making a network request\"\u001b[0m\u001b[1;33m)\u001b[0m\u001b[1;33m\u001b[0m\u001b[1;33m\u001b[0m\u001b[0m\n\u001b[1;32m----> 9\u001b[1;33m         \u001b[0mgetData\u001b[0m\u001b[1;33m(\u001b[0m\u001b[0mfilename\u001b[0m\u001b[1;33m,\u001b[0m \u001b[0mstockname\u001b[0m\u001b[1;33m,\u001b[0m \u001b[0mstartdate\u001b[0m\u001b[1;33m,\u001b[0m \u001b[0menddate\u001b[0m\u001b[1;33m)\u001b[0m\u001b[1;33m\u001b[0m\u001b[1;33m\u001b[0m\u001b[0m\n\u001b[0m\u001b[0;32m     10\u001b[0m \u001b[1;33m\u001b[0m\u001b[0m\n\u001b[0;32m     11\u001b[0m     \u001b[0mloadDataset\u001b[0m\u001b[1;33m(\u001b[0m\u001b[0mfilename\u001b[0m\u001b[1;33m,\u001b[0m \u001b[0msplit\u001b[0m\u001b[1;33m,\u001b[0m \u001b[0mtrainingSet\u001b[0m\u001b[1;33m,\u001b[0m \u001b[0mtestSet\u001b[0m\u001b[1;33m,\u001b[0m \u001b[0miv\u001b[0m\u001b[1;33m)\u001b[0m\u001b[1;33m\u001b[0m\u001b[1;33m\u001b[0m\u001b[0m\n",
      "\u001b[1;32m<ipython-input-37-7e557552a95b>\u001b[0m in \u001b[0;36mgetData\u001b[1;34m(filename, stockname, startdate, enddate)\u001b[0m\n\u001b[0;32m     19\u001b[0m                 \u001b[0mprev_closing\u001b[0m \u001b[1;33m=\u001b[0m \u001b[0mstck_dates\u001b[0m\u001b[1;33m[\u001b[0m\u001b[0mi\u001b[0m\u001b[1;33m]\u001b[0m\u001b[1;33m[\u001b[0m\u001b[1;34m\"Adj Close\"\u001b[0m\u001b[1;33m]\u001b[0m\u001b[1;33m\u001b[0m\u001b[1;33m\u001b[0m\u001b[0m\n\u001b[0;32m     20\u001b[0m                 \u001b[1;32mcontinue\u001b[0m\u001b[1;33m\u001b[0m\u001b[1;33m\u001b[0m\u001b[0m\n\u001b[1;32m---> 21\u001b[1;33m             \u001b[0mstockwriter\u001b[0m\u001b[1;33m.\u001b[0m\u001b[0mwriterow\u001b[0m\u001b[1;33m(\u001b[0m\u001b[1;33m[\u001b[0m\u001b[0mnew_format_date\u001b[0m\u001b[1;33m]\u001b[0m \u001b[1;33m+\u001b[0m \u001b[1;33m[\u001b[0m\u001b[0mstck_dates\u001b[0m\u001b[1;33m[\u001b[0m\u001b[0mi\u001b[0m\u001b[1;33m]\u001b[0m\u001b[1;33m[\u001b[0m\u001b[1;34m\"Open\"\u001b[0m\u001b[1;33m]\u001b[0m\u001b[1;33m]\u001b[0m \u001b[1;33m+\u001b[0m  \u001b[1;33m[\u001b[0m\u001b[0mstck_dates\u001b[0m\u001b[1;33m[\u001b[0m\u001b[0mi\u001b[0m\u001b[1;33m]\u001b[0m\u001b[1;33m[\u001b[0m\u001b[1;34m\"High\"\u001b[0m\u001b[1;33m]\u001b[0m\u001b[1;33m]\u001b[0m \u001b[1;33m+\u001b[0m \u001b[1;33m[\u001b[0m\u001b[0mstck_dates\u001b[0m\u001b[1;33m[\u001b[0m\u001b[0mi\u001b[0m\u001b[1;33m]\u001b[0m\u001b[1;33m[\u001b[0m\u001b[1;34m\"Low\"\u001b[0m\u001b[1;33m]\u001b[0m\u001b[1;33m]\u001b[0m  \u001b[1;33m+\u001b[0m  \u001b[1;33m[\u001b[0m\u001b[0mstck_dates\u001b[0m\u001b[1;33m[\u001b[0m\u001b[0mi\u001b[0m\u001b[1;33m]\u001b[0m\u001b[1;33m[\u001b[0m\u001b[1;34m\"Adj Close\"\u001b[0m\u001b[1;33m]\u001b[0m\u001b[1;33m]\u001b[0m \u001b[1;33m+\u001b[0m \u001b[1;33m[\u001b[0m\u001b[0mchange\u001b[0m\u001b[1;33m(\u001b[0m\u001b[0mstck_dates\u001b[0m\u001b[1;33m[\u001b[0m\u001b[0mi\u001b[0m\u001b[1;33m]\u001b[0m\u001b[1;33m[\u001b[0m\u001b[1;34m\"Adj Close\"\u001b[0m\u001b[1;33m]\u001b[0m\u001b[1;33m,\u001b[0m \u001b[0mprev_closing\u001b[0m\u001b[1;33m)\u001b[0m\u001b[1;33m]\u001b[0m\u001b[1;33m)\u001b[0m\u001b[1;33m\u001b[0m\u001b[1;33m\u001b[0m\u001b[0m\n\u001b[0m\u001b[0;32m     22\u001b[0m             \u001b[0mprev_closing\u001b[0m \u001b[1;33m=\u001b[0m \u001b[0mstck_dates\u001b[0m\u001b[1;33m[\u001b[0m\u001b[0mi\u001b[0m\u001b[1;33m]\u001b[0m\u001b[1;33m[\u001b[0m\u001b[1;34m\"Adj Close\"\u001b[0m\u001b[1;33m]\u001b[0m\u001b[1;33m\u001b[0m\u001b[1;33m\u001b[0m\u001b[0m\n",
      "\u001b[1;31mTypeError\u001b[0m: a bytes-like object is required, not 'str'"
     ]
    },
    {
     "data": {
      "image/png": "[encoded data removed]",
      "text/plain": [
       "<Figure size 432x288 with 1 Axes>"
      ]
     },
     "metadata": {
      "needs_background": "light"
     },
     "output_type": "display_data"
    }
   ],
   "source": [
    "def main():\n",
    "    split = 0.67\n",
    "    startdate = datetime.datetime(2011,6,13)\n",
    "    enddate = datetime.date.today()\n",
    "\n",
    "    predictFor(5, 'CLX.csv', 'CLX', startdate, enddate, 1, split)\n",
    "    \n",
    "main()\n",
    "#graph at the very end. Wasn't able to debug this error"
   ]
  },
  {
   "cell_type": "code",
   "execution_count": null,
   "id": "2d61c437",
   "metadata": {},
   "outputs": [],
   "source": []
  }
 ],
 "metadata": {
  "kernelspec": {
   "display_name": "Python 3",
   "language": "python",
   "name": "python3"
  },
  "language_info": {
   "codemirror_mode": {
    "name": "ipython",
    "version": 3
   },
   "file_extension": ".py",
   "mimetype": "text/x-python",
   "name": "python",
   "nbconvert_exporter": "python",
   "pygments_lexer": "ipython3",
   "version": "3.8.10"
  }
 },
 "nbformat": 4,
 "nbformat_minor": 5
}
